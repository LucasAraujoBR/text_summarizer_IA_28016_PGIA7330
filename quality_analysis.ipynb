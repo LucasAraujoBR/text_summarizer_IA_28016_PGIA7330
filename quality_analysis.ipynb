{
 "cells": [
  {
   "cell_type": "code",
   "execution_count": 5,
   "metadata": {},
   "outputs": [
    {
     "name": "stderr",
     "output_type": "stream",
     "text": [
      "[nltk_data] Error loading punkt: <urlopen error [SSL:\n",
      "[nltk_data]     CERTIFICATE_VERIFY_FAILED] certificate verify failed:\n",
      "[nltk_data]     unable to get local issuer certificate (_ssl.c:1010)>\n"
     ]
    },
    {
     "data": {
      "text/plain": [
       "False"
      ]
     },
     "execution_count": 5,
     "metadata": {},
     "output_type": "execute_result"
    }
   ],
   "source": [
    "import pandas as pd\n",
    "import nltk\n",
    "nltk.download('punkt')"
   ]
  },
  {
   "cell_type": "code",
   "execution_count": 6,
   "metadata": {},
   "outputs": [
    {
     "name": "stdout",
     "output_type": "stream",
     "text": [
      "⏩ Lote 1 já processado com base nos títulos. Pulando...\n",
      "\n",
      "⏩ Lote 2 já processado com base nos títulos. Pulando...\n",
      "\n",
      "⏩ Lote 3 já processado com base nos títulos. Pulando...\n",
      "\n",
      "⏩ Lote 4 já processado com base nos títulos. Pulando...\n",
      "\n",
      "⏩ Lote 5 já processado com base nos títulos. Pulando...\n",
      "\n",
      "⏩ Lote 6 já processado com base nos títulos. Pulando...\n",
      "\n",
      "⏩ Lote 7 já processado com base nos títulos. Pulando...\n",
      "\n",
      "⏩ Lote 8 já processado com base nos títulos. Pulando...\n",
      "\n",
      "⏩ Lote 9 já processado com base nos títulos. Pulando...\n",
      "\n",
      "⏩ Lote 10 já processado com base nos títulos. Pulando...\n",
      "\n",
      "⏩ Lote 11 já processado com base nos títulos. Pulando...\n",
      "\n",
      "⏩ Lote 12 já processado com base nos títulos. Pulando...\n",
      "\n",
      "⏩ Lote 13 já processado com base nos títulos. Pulando...\n",
      "\n",
      "⏩ Lote 14 já processado com base nos títulos. Pulando...\n",
      "\n",
      "⏩ Lote 15 já processado com base nos títulos. Pulando...\n",
      "\n",
      "⏩ Lote 16 já processado com base nos títulos. Pulando...\n",
      "\n",
      "⏩ Lote 17 já processado com base nos títulos. Pulando...\n",
      "\n",
      "⏩ Lote 18 já processado com base nos títulos. Pulando...\n",
      "\n",
      "⏩ Lote 19 já processado com base nos títulos. Pulando...\n",
      "\n",
      "⏩ Lote 20 já processado com base nos títulos. Pulando...\n",
      "\n",
      "⏩ Lote 21 já processado com base nos títulos. Pulando...\n",
      "\n",
      "⏩ Lote 22 já processado com base nos títulos. Pulando...\n",
      "\n",
      "⏩ Lote 23 já processado com base nos títulos. Pulando...\n",
      "\n",
      "⏩ Lote 24 já processado com base nos títulos. Pulando...\n",
      "\n",
      "⏩ Lote 25 já processado com base nos títulos. Pulando...\n",
      "\n",
      "⏩ Lote 26 já processado com base nos títulos. Pulando...\n",
      "\n",
      "⏩ Lote 27 já processado com base nos títulos. Pulando...\n",
      "\n",
      "⏩ Lote 28 já processado com base nos títulos. Pulando...\n",
      "\n",
      "⏩ Lote 29 já processado com base nos títulos. Pulando...\n",
      "\n",
      "⏩ Lote 30 já processado com base nos títulos. Pulando...\n",
      "\n",
      "⏩ Lote 31 já processado com base nos títulos. Pulando...\n",
      "\n",
      "⏩ Lote 32 já processado com base nos títulos. Pulando...\n",
      "\n",
      "⏩ Lote 33 já processado com base nos títulos. Pulando...\n",
      "\n",
      "⏩ Lote 34 já processado com base nos títulos. Pulando...\n",
      "\n",
      "⏩ Lote 35 já processado com base nos títulos. Pulando...\n",
      "\n",
      "⏩ Lote 36 já processado com base nos títulos. Pulando...\n",
      "\n",
      "⏩ Lote 37 já processado com base nos títulos. Pulando...\n",
      "\n",
      "⏩ Lote 38 já processado com base nos títulos. Pulando...\n",
      "\n",
      "⏩ Lote 39 já processado com base nos títulos. Pulando...\n",
      "\n",
      "⏩ Lote 40 já processado com base nos títulos. Pulando...\n",
      "\n",
      "⏩ Lote 41 já processado com base nos títulos. Pulando...\n",
      "\n",
      "⏩ Lote 42 já processado com base nos títulos. Pulando...\n",
      "\n",
      "⏩ Lote 43 já processado com base nos títulos. Pulando...\n",
      "\n",
      "⏩ Lote 44 já processado com base nos títulos. Pulando...\n",
      "\n",
      "⏩ Lote 45 já processado com base nos títulos. Pulando...\n",
      "\n",
      "⏩ Lote 46 já processado com base nos títulos. Pulando...\n",
      "\n",
      "⏩ Lote 47 já processado com base nos títulos. Pulando...\n",
      "\n",
      "⏩ Lote 48 já processado com base nos títulos. Pulando...\n",
      "\n",
      "⏩ Lote 49 já processado com base nos títulos. Pulando...\n",
      "\n",
      "⏩ Lote 50 já processado com base nos títulos. Pulando...\n",
      "\n",
      "⏩ Lote 51 já processado com base nos títulos. Pulando...\n",
      "\n",
      "⏩ Lote 52 já processado com base nos títulos. Pulando...\n",
      "\n",
      "⏩ Lote 53 já processado com base nos títulos. Pulando...\n",
      "\n",
      "⏩ Lote 54 já processado com base nos títulos. Pulando...\n",
      "\n",
      "⏩ Lote 55 já processado com base nos títulos. Pulando...\n",
      "\n",
      "⏩ Lote 56 já processado com base nos títulos. Pulando...\n",
      "\n",
      "⏩ Lote 57 já processado com base nos títulos. Pulando...\n",
      "\n",
      "⏩ Lote 58 já processado com base nos títulos. Pulando...\n",
      "\n",
      "⏩ Lote 59 já processado com base nos títulos. Pulando...\n",
      "\n",
      "⏩ Lote 60 já processado com base nos títulos. Pulando...\n",
      "\n",
      "⏩ Lote 61 já processado com base nos títulos. Pulando...\n",
      "\n",
      "⏩ Lote 62 já processado com base nos títulos. Pulando...\n",
      "\n",
      "⏩ Lote 63 já processado com base nos títulos. Pulando...\n",
      "\n",
      "⏩ Lote 64 já processado com base nos títulos. Pulando...\n",
      "\n",
      "⏩ Lote 65 já processado com base nos títulos. Pulando...\n",
      "\n",
      "⏩ Lote 66 já processado com base nos títulos. Pulando...\n",
      "\n",
      "⏩ Lote 67 já processado com base nos títulos. Pulando...\n",
      "\n",
      "⏩ Lote 68 já processado com base nos títulos. Pulando...\n",
      "\n",
      "⏩ Lote 69 já processado com base nos títulos. Pulando...\n",
      "\n",
      "⏩ Lote 70 já processado com base nos títulos. Pulando...\n",
      "\n",
      "⏩ Lote 71 já processado com base nos títulos. Pulando...\n",
      "\n",
      "⏩ Lote 72 já processado com base nos títulos. Pulando...\n",
      "\n",
      "⏩ Lote 73 já processado com base nos títulos. Pulando...\n",
      "\n",
      "⏩ Lote 74 já processado com base nos títulos. Pulando...\n",
      "\n",
      "⏩ Lote 75 já processado com base nos títulos. Pulando...\n",
      "\n",
      "⏩ Lote 76 já processado com base nos títulos. Pulando...\n",
      "\n",
      "⏩ Lote 77 já processado com base nos títulos. Pulando...\n",
      "\n",
      "⏩ Lote 78 já processado com base nos títulos. Pulando...\n",
      "\n",
      "⏩ Lote 79 já processado com base nos títulos. Pulando...\n",
      "\n",
      "⏩ Lote 80 já processado com base nos títulos. Pulando...\n",
      "\n",
      "⏩ Lote 81 já processado com base nos títulos. Pulando...\n",
      "\n",
      "⏩ Lote 82 já processado com base nos títulos. Pulando...\n",
      "\n",
      "⏩ Lote 83 já processado com base nos títulos. Pulando...\n",
      "\n",
      "⏩ Lote 84 já processado com base nos títulos. Pulando...\n",
      "\n",
      "⏩ Lote 85 já processado com base nos títulos. Pulando...\n",
      "\n",
      "⏩ Lote 86 já processado com base nos títulos. Pulando...\n",
      "\n",
      "⏩ Lote 87 já processado com base nos títulos. Pulando...\n",
      "\n",
      "⏩ Lote 88 já processado com base nos títulos. Pulando...\n",
      "\n",
      "⏩ Lote 89 já processado com base nos títulos. Pulando...\n",
      "\n",
      "⏩ Lote 90 já processado com base nos títulos. Pulando...\n",
      "\n",
      "⏩ Lote 91 já processado com base nos títulos. Pulando...\n",
      "\n",
      "⏩ Lote 92 já processado com base nos títulos. Pulando...\n",
      "\n",
      "⏩ Lote 93 já processado com base nos títulos. Pulando...\n",
      "\n",
      "⏩ Lote 94 já processado com base nos títulos. Pulando...\n",
      "\n",
      "⏩ Lote 95 já processado com base nos títulos. Pulando...\n",
      "\n",
      "⏩ Lote 96 já processado com base nos títulos. Pulando...\n",
      "\n",
      "⏩ Lote 97 já processado com base nos títulos. Pulando...\n",
      "\n",
      "⏩ Lote 98 já processado com base nos títulos. Pulando...\n",
      "\n",
      "⏩ Lote 99 já processado com base nos títulos. Pulando...\n",
      "\n",
      "⏩ Lote 100 já processado com base nos títulos. Pulando...\n",
      "\n",
      "⏩ Lote 101 já processado com base nos títulos. Pulando...\n",
      "\n",
      "⏩ Lote 102 já processado com base nos títulos. Pulando...\n",
      "\n",
      "⏩ Lote 103 já processado com base nos títulos. Pulando...\n",
      "\n",
      "⏩ Lote 104 já processado com base nos títulos. Pulando...\n",
      "\n",
      "⏩ Lote 105 já processado com base nos títulos. Pulando...\n",
      "\n",
      "⏩ Lote 106 já processado com base nos títulos. Pulando...\n",
      "\n",
      "⏩ Lote 107 já processado com base nos títulos. Pulando...\n",
      "\n",
      "⏩ Lote 108 já processado com base nos títulos. Pulando...\n",
      "\n",
      "⏩ Lote 109 já processado com base nos títulos. Pulando...\n",
      "\n",
      "⏩ Lote 110 já processado com base nos títulos. Pulando...\n",
      "\n",
      "⏩ Lote 111 já processado com base nos títulos. Pulando...\n",
      "\n",
      "⏩ Lote 112 já processado com base nos títulos. Pulando...\n",
      "\n",
      "⏩ Lote 113 já processado com base nos títulos. Pulando...\n",
      "\n",
      "⏩ Lote 114 já processado com base nos títulos. Pulando...\n",
      "\n",
      "⏩ Lote 115 já processado com base nos títulos. Pulando...\n",
      "\n",
      "⏩ Lote 116 já processado com base nos títulos. Pulando...\n",
      "\n",
      "⏩ Lote 117 já processado com base nos títulos. Pulando...\n",
      "\n",
      "⏩ Lote 118 já processado com base nos títulos. Pulando...\n",
      "\n",
      "⏩ Lote 119 já processado com base nos títulos. Pulando...\n",
      "\n",
      "⏩ Lote 120 já processado com base nos títulos. Pulando...\n",
      "\n",
      "⏩ Lote 121 já processado com base nos títulos. Pulando...\n",
      "\n",
      "⏩ Lote 122 já processado com base nos títulos. Pulando...\n",
      "\n",
      "⏩ Lote 123 já processado com base nos títulos. Pulando...\n",
      "\n",
      "⏩ Lote 124 já processado com base nos títulos. Pulando...\n",
      "\n",
      "⏩ Lote 125 já processado com base nos títulos. Pulando...\n",
      "\n",
      "⏩ Lote 126 já processado com base nos títulos. Pulando...\n",
      "\n",
      "⏩ Lote 127 já processado com base nos títulos. Pulando...\n",
      "\n",
      "⏩ Lote 128 já processado com base nos títulos. Pulando...\n",
      "\n",
      "⏩ Lote 129 já processado com base nos títulos. Pulando...\n",
      "\n",
      "⏩ Lote 130 já processado com base nos títulos. Pulando...\n",
      "\n",
      "⏩ Lote 131 já processado com base nos títulos. Pulando...\n",
      "\n",
      "⏩ Lote 132 já processado com base nos títulos. Pulando...\n",
      "\n",
      "⏩ Lote 133 já processado com base nos títulos. Pulando...\n",
      "\n",
      "⏩ Lote 134 já processado com base nos títulos. Pulando...\n",
      "\n",
      "⏩ Lote 135 já processado com base nos títulos. Pulando...\n",
      "\n",
      "⏩ Lote 136 já processado com base nos títulos. Pulando...\n",
      "\n",
      "⏩ Lote 137 já processado com base nos títulos. Pulando...\n",
      "\n",
      "⏩ Lote 138 já processado com base nos títulos. Pulando...\n",
      "\n",
      "⏩ Lote 139 já processado com base nos títulos. Pulando...\n",
      "\n",
      "⏩ Lote 140 já processado com base nos títulos. Pulando...\n",
      "\n",
      "⏩ Lote 141 já processado com base nos títulos. Pulando...\n",
      "\n",
      "⏩ Lote 142 já processado com base nos títulos. Pulando...\n",
      "\n",
      "⏩ Lote 143 já processado com base nos títulos. Pulando...\n",
      "\n",
      "⏩ Lote 144 já processado com base nos títulos. Pulando...\n",
      "\n",
      "⏩ Lote 145 já processado com base nos títulos. Pulando...\n",
      "\n",
      "⏩ Lote 146 já processado com base nos títulos. Pulando...\n",
      "\n",
      "⏩ Lote 147 já processado com base nos títulos. Pulando...\n",
      "\n",
      "⏩ Lote 148 já processado com base nos títulos. Pulando...\n",
      "\n",
      "⏩ Lote 149 já processado com base nos títulos. Pulando...\n",
      "\n",
      "⏩ Lote 150 já processado com base nos títulos. Pulando...\n",
      "\n",
      "⏩ Lote 151 já processado com base nos títulos. Pulando...\n",
      "\n",
      "⏩ Lote 152 já processado com base nos títulos. Pulando...\n",
      "\n",
      "⏩ Lote 153 já processado com base nos títulos. Pulando...\n",
      "\n",
      "⏩ Lote 154 já processado com base nos títulos. Pulando...\n",
      "\n",
      "⏩ Lote 155 já processado com base nos títulos. Pulando...\n",
      "\n",
      "⏩ Lote 156 já processado com base nos títulos. Pulando...\n",
      "\n",
      "⏩ Lote 157 já processado com base nos títulos. Pulando...\n",
      "\n",
      "⏩ Lote 158 já processado com base nos títulos. Pulando...\n",
      "\n",
      "⏩ Lote 159 já processado com base nos títulos. Pulando...\n",
      "\n",
      "⏩ Lote 160 já processado com base nos títulos. Pulando...\n",
      "\n",
      "⏩ Lote 161 já processado com base nos títulos. Pulando...\n",
      "\n",
      "⏩ Lote 162 já processado com base nos títulos. Pulando...\n",
      "\n",
      "⏩ Lote 163 já processado com base nos títulos. Pulando...\n",
      "\n",
      "⏩ Lote 164 já processado com base nos títulos. Pulando...\n",
      "\n",
      "⏩ Lote 165 já processado com base nos títulos. Pulando...\n",
      "\n",
      "⏩ Lote 166 já processado com base nos títulos. Pulando...\n",
      "\n",
      "⏩ Lote 167 já processado com base nos títulos. Pulando...\n",
      "\n",
      "⏩ Lote 168 já processado com base nos títulos. Pulando...\n",
      "\n",
      "⏩ Lote 169 já processado com base nos títulos. Pulando...\n",
      "\n",
      "⏩ Lote 170 já processado com base nos títulos. Pulando...\n",
      "\n",
      "⏩ Lote 171 já processado com base nos títulos. Pulando...\n",
      "\n",
      "⏩ Lote 172 já processado com base nos títulos. Pulando...\n",
      "\n",
      "⏩ Lote 173 já processado com base nos títulos. Pulando...\n",
      "\n",
      "⏩ Lote 174 já processado com base nos títulos. Pulando...\n",
      "\n",
      "⏩ Lote 175 já processado com base nos títulos. Pulando...\n",
      "\n",
      "⏩ Lote 176 já processado com base nos títulos. Pulando...\n",
      "\n",
      "⏩ Lote 177 já processado com base nos títulos. Pulando...\n",
      "\n",
      "⏩ Lote 178 já processado com base nos títulos. Pulando...\n",
      "\n",
      "⏩ Lote 179 já processado com base nos títulos. Pulando...\n",
      "\n",
      "⏩ Lote 180 já processado com base nos títulos. Pulando...\n",
      "\n",
      "⏩ Lote 181 já processado com base nos títulos. Pulando...\n",
      "\n",
      "⏩ Lote 182 já processado com base nos títulos. Pulando...\n",
      "\n",
      "⏩ Lote 183 já processado com base nos títulos. Pulando...\n",
      "\n",
      "⏩ Lote 184 já processado com base nos títulos. Pulando...\n",
      "\n",
      "⏩ Lote 185 já processado com base nos títulos. Pulando...\n",
      "\n",
      "⏩ Lote 186 já processado com base nos títulos. Pulando...\n",
      "\n",
      "⏩ Lote 187 já processado com base nos títulos. Pulando...\n",
      "\n",
      "⏩ Lote 188 já processado com base nos títulos. Pulando...\n",
      "\n",
      "⏩ Lote 189 já processado com base nos títulos. Pulando...\n",
      "\n",
      "⏩ Lote 190 já processado com base nos títulos. Pulando...\n",
      "\n",
      "⏩ Lote 191 já processado com base nos títulos. Pulando...\n",
      "\n",
      "⏩ Lote 192 já processado com base nos títulos. Pulando...\n",
      "\n",
      "⏩ Lote 193 já processado com base nos títulos. Pulando...\n",
      "\n",
      "⏩ Lote 194 já processado com base nos títulos. Pulando...\n",
      "\n",
      "⏩ Lote 195 já processado com base nos títulos. Pulando...\n",
      "\n",
      "⏩ Lote 196 já processado com base nos títulos. Pulando...\n",
      "\n",
      "⏩ Lote 197 já processado com base nos títulos. Pulando...\n",
      "\n",
      "⏩ Lote 198 já processado com base nos títulos. Pulando...\n",
      "\n",
      "⏩ Lote 199 já processado com base nos títulos. Pulando...\n",
      "\n",
      "⏩ Lote 200 já processado com base nos títulos. Pulando...\n",
      "\n",
      "⏩ Lote 201 já processado com base nos títulos. Pulando...\n",
      "\n",
      "⏩ Lote 202 já processado com base nos títulos. Pulando...\n",
      "\n",
      "⏩ Lote 203 já processado com base nos títulos. Pulando...\n",
      "\n",
      "⏩ Lote 204 já processado com base nos títulos. Pulando...\n",
      "\n",
      "⏩ Lote 205 já processado com base nos títulos. Pulando...\n",
      "\n",
      "⏩ Lote 206 já processado com base nos títulos. Pulando...\n",
      "\n",
      "⏩ Lote 207 já processado com base nos títulos. Pulando...\n",
      "\n",
      "⏩ Lote 208 já processado com base nos títulos. Pulando...\n",
      "\n",
      "⏩ Lote 209 já processado com base nos títulos. Pulando...\n",
      "\n",
      "⏩ Lote 210 já processado com base nos títulos. Pulando...\n",
      "\n",
      "⏩ Lote 211 já processado com base nos títulos. Pulando...\n",
      "\n",
      "⏩ Lote 212 já processado com base nos títulos. Pulando...\n",
      "\n",
      "⏩ Lote 213 já processado com base nos títulos. Pulando...\n",
      "\n",
      "⏩ Lote 214 já processado com base nos títulos. Pulando...\n",
      "\n",
      "⏩ Lote 215 já processado com base nos títulos. Pulando...\n",
      "\n",
      "⏩ Lote 216 já processado com base nos títulos. Pulando...\n",
      "\n",
      "⏩ Lote 217 já processado com base nos títulos. Pulando...\n",
      "\n",
      "⏩ Lote 218 já processado com base nos títulos. Pulando...\n",
      "\n",
      "⏩ Lote 219 já processado com base nos títulos. Pulando...\n",
      "\n",
      "⏩ Lote 220 já processado com base nos títulos. Pulando...\n",
      "\n",
      "⏩ Lote 221 já processado com base nos títulos. Pulando...\n",
      "\n",
      "⏩ Lote 222 já processado com base nos títulos. Pulando...\n",
      "\n",
      "⏩ Lote 223 já processado com base nos títulos. Pulando...\n",
      "\n",
      "⏩ Lote 224 já processado com base nos títulos. Pulando...\n",
      "\n",
      "⏩ Lote 225 já processado com base nos títulos. Pulando...\n",
      "\n",
      "⏩ Lote 226 já processado com base nos títulos. Pulando...\n",
      "\n",
      "⏩ Lote 227 já processado com base nos títulos. Pulando...\n",
      "\n",
      "⏩ Lote 228 já processado com base nos títulos. Pulando...\n",
      "\n",
      "⏩ Lote 229 já processado com base nos títulos. Pulando...\n",
      "\n",
      "⏩ Lote 230 já processado com base nos títulos. Pulando...\n",
      "\n",
      "⏩ Lote 231 já processado com base nos títulos. Pulando...\n",
      "\n",
      "⏩ Lote 232 já processado com base nos títulos. Pulando...\n",
      "\n",
      "⏩ Lote 233 já processado com base nos títulos. Pulando...\n",
      "\n",
      "⏩ Lote 234 já processado com base nos títulos. Pulando...\n",
      "\n",
      "⏩ Lote 235 já processado com base nos títulos. Pulando...\n",
      "\n",
      "⏩ Lote 236 já processado com base nos títulos. Pulando...\n",
      "\n",
      "⏩ Lote 237 já processado com base nos títulos. Pulando...\n",
      "\n",
      "⏩ Lote 238 já processado com base nos títulos. Pulando...\n",
      "\n",
      "⏩ Lote 239 já processado com base nos títulos. Pulando...\n",
      "\n",
      "⏩ Lote 240 já processado com base nos títulos. Pulando...\n",
      "\n",
      "⏩ Lote 241 já processado com base nos títulos. Pulando...\n",
      "\n",
      "⏩ Lote 242 já processado com base nos títulos. Pulando...\n",
      "\n",
      "⏩ Lote 243 já processado com base nos títulos. Pulando...\n",
      "\n",
      "⏩ Lote 244 já processado com base nos títulos. Pulando...\n",
      "\n",
      "⏩ Lote 245 já processado com base nos títulos. Pulando...\n",
      "\n",
      "⏩ Lote 246 já processado com base nos títulos. Pulando...\n",
      "\n",
      "⏩ Lote 247 já processado com base nos títulos. Pulando...\n",
      "\n",
      "⏩ Lote 248 já processado com base nos títulos. Pulando...\n",
      "\n",
      "⏩ Lote 249 já processado com base nos títulos. Pulando...\n",
      "\n",
      "⏩ Lote 250 já processado com base nos títulos. Pulando...\n",
      "\n",
      "⏩ Lote 251 já processado com base nos títulos. Pulando...\n",
      "\n",
      "⏩ Lote 252 já processado com base nos títulos. Pulando...\n",
      "\n",
      "⏩ Lote 253 já processado com base nos títulos. Pulando...\n",
      "\n",
      "⏩ Lote 254 já processado com base nos títulos. Pulando...\n",
      "\n",
      "⏩ Lote 255 já processado com base nos títulos. Pulando...\n",
      "\n",
      "⏩ Lote 256 já processado com base nos títulos. Pulando...\n",
      "\n",
      "⏩ Lote 257 já processado com base nos títulos. Pulando...\n",
      "\n",
      "⏩ Lote 258 já processado com base nos títulos. Pulando...\n",
      "\n",
      "⏩ Lote 259 já processado com base nos títulos. Pulando...\n",
      "\n",
      "⏩ Lote 260 já processado com base nos títulos. Pulando...\n",
      "\n",
      "⏩ Lote 261 já processado com base nos títulos. Pulando...\n",
      "\n",
      "⏩ Lote 262 já processado com base nos títulos. Pulando...\n",
      "\n",
      "⏩ Lote 263 já processado com base nos títulos. Pulando...\n",
      "\n",
      "⏩ Lote 264 já processado com base nos títulos. Pulando...\n",
      "\n",
      "⏩ Lote 265 já processado com base nos títulos. Pulando...\n",
      "\n",
      "⏩ Lote 266 já processado com base nos títulos. Pulando...\n",
      "\n",
      "⏩ Lote 267 já processado com base nos títulos. Pulando...\n",
      "\n",
      "⏩ Lote 268 já processado com base nos títulos. Pulando...\n",
      "\n",
      "⏩ Lote 269 já processado com base nos títulos. Pulando...\n",
      "\n",
      "⏩ Lote 270 já processado com base nos títulos. Pulando...\n",
      "\n",
      "⏩ Lote 271 já processado com base nos títulos. Pulando...\n",
      "\n",
      "⏩ Lote 272 já processado com base nos títulos. Pulando...\n",
      "\n",
      "⏩ Lote 273 já processado com base nos títulos. Pulando...\n",
      "\n",
      "⏩ Lote 274 já processado com base nos títulos. Pulando...\n",
      "\n",
      "⏩ Lote 275 já processado com base nos títulos. Pulando...\n",
      "\n",
      "⏩ Lote 276 já processado com base nos títulos. Pulando...\n",
      "\n",
      "⏩ Lote 277 já processado com base nos títulos. Pulando...\n",
      "\n",
      "⏩ Lote 278 já processado com base nos títulos. Pulando...\n",
      "\n",
      "⏩ Lote 279 já processado com base nos títulos. Pulando...\n",
      "\n",
      "⏩ Lote 280 já processado com base nos títulos. Pulando...\n",
      "\n",
      "⏩ Lote 281 já processado com base nos títulos. Pulando...\n",
      "\n",
      "⏩ Lote 282 já processado com base nos títulos. Pulando...\n",
      "\n",
      "⏩ Lote 283 já processado com base nos títulos. Pulando...\n",
      "\n",
      "⏩ Lote 284 já processado com base nos títulos. Pulando...\n",
      "\n",
      "⏩ Lote 285 já processado com base nos títulos. Pulando...\n",
      "\n",
      "⏩ Lote 286 já processado com base nos títulos. Pulando...\n",
      "\n",
      "⏩ Lote 287 já processado com base nos títulos. Pulando...\n",
      "\n",
      "⏩ Lote 288 já processado com base nos títulos. Pulando...\n",
      "\n",
      "⏩ Lote 289 já processado com base nos títulos. Pulando...\n",
      "\n",
      "⏩ Lote 290 já processado com base nos títulos. Pulando...\n",
      "\n",
      "⏩ Lote 291 já processado com base nos títulos. Pulando...\n",
      "\n",
      "⏩ Lote 292 já processado com base nos títulos. Pulando...\n",
      "\n",
      "⏩ Lote 293 já processado com base nos títulos. Pulando...\n",
      "\n",
      "⏩ Lote 294 já processado com base nos títulos. Pulando...\n",
      "\n",
      "⏩ Lote 295 já processado com base nos títulos. Pulando...\n",
      "\n",
      "⏩ Lote 296 já processado com base nos títulos. Pulando...\n",
      "\n",
      "⏩ Lote 297 já processado com base nos títulos. Pulando...\n",
      "\n",
      "⏩ Lote 298 já processado com base nos títulos. Pulando...\n",
      "\n",
      "⏩ Lote 299 já processado com base nos títulos. Pulando...\n",
      "\n",
      "⏩ Lote 300 já processado com base nos títulos. Pulando...\n",
      "\n",
      "⏩ Lote 301 já processado com base nos títulos. Pulando...\n",
      "\n",
      "⏩ Lote 302 já processado com base nos títulos. Pulando...\n",
      "\n",
      "⏩ Lote 303 já processado com base nos títulos. Pulando...\n",
      "\n",
      "⏩ Lote 304 já processado com base nos títulos. Pulando...\n",
      "\n",
      "⏩ Lote 305 já processado com base nos títulos. Pulando...\n",
      "\n",
      "⏩ Lote 306 já processado com base nos títulos. Pulando...\n",
      "\n",
      "⏩ Lote 307 já processado com base nos títulos. Pulando...\n",
      "\n",
      "⏩ Lote 308 já processado com base nos títulos. Pulando...\n",
      "\n",
      "⏩ Lote 309 já processado com base nos títulos. Pulando...\n",
      "\n",
      "⏩ Lote 310 já processado com base nos títulos. Pulando...\n",
      "\n",
      "⏩ Lote 311 já processado com base nos títulos. Pulando...\n",
      "\n",
      "⏩ Lote 312 já processado com base nos títulos. Pulando...\n",
      "\n",
      "⏩ Lote 313 já processado com base nos títulos. Pulando...\n",
      "\n",
      "⏩ Lote 314 já processado com base nos títulos. Pulando...\n",
      "\n",
      "⏩ Lote 315 já processado com base nos títulos. Pulando...\n",
      "\n",
      "⏩ Lote 316 já processado com base nos títulos. Pulando...\n",
      "\n",
      "⏩ Lote 317 já processado com base nos títulos. Pulando...\n",
      "\n",
      "⏩ Lote 318 já processado com base nos títulos. Pulando...\n",
      "\n",
      "⏩ Lote 319 já processado com base nos títulos. Pulando...\n",
      "\n",
      "⏩ Lote 320 já processado com base nos títulos. Pulando...\n",
      "\n",
      "⏩ Lote 321 já processado com base nos títulos. Pulando...\n",
      "\n",
      "⏩ Lote 322 já processado com base nos títulos. Pulando...\n",
      "\n",
      "⏩ Lote 323 já processado com base nos títulos. Pulando...\n",
      "\n",
      "⏩ Lote 324 já processado com base nos títulos. Pulando...\n",
      "\n",
      "⏩ Lote 325 já processado com base nos títulos. Pulando...\n",
      "\n",
      "⏩ Lote 326 já processado com base nos títulos. Pulando...\n",
      "\n",
      "⏩ Lote 327 já processado com base nos títulos. Pulando...\n",
      "\n",
      "⏩ Lote 328 já processado com base nos títulos. Pulando...\n",
      "\n",
      "⏩ Lote 329 já processado com base nos títulos. Pulando...\n",
      "\n",
      "⏩ Lote 330 já processado com base nos títulos. Pulando...\n",
      "\n",
      "⏩ Lote 331 já processado com base nos títulos. Pulando...\n",
      "\n",
      "⏩ Lote 332 já processado com base nos títulos. Pulando...\n",
      "\n",
      "⏩ Lote 333 já processado com base nos títulos. Pulando...\n",
      "\n",
      "⏩ Lote 334 já processado com base nos títulos. Pulando...\n",
      "\n",
      "🔄 Processando lote 335/386...\n"
     ]
    },
    {
     "name": "stderr",
     "output_type": "stream",
     "text": [
      "→ ROUGE/BLEU HEADLINE: 100%|██████████| 200/200 [00:00<00:00, 296.70it/s]\n",
      "Some weights of RobertaModel were not initialized from the model checkpoint at roberta-large and are newly initialized: ['pooler.dense.bias', 'pooler.dense.weight']\n",
      "You should probably TRAIN this model on a down-stream task to be able to use it for predictions and inference.\n",
      "Warning: Empty candidate sentence detected; setting raw BERTscores to 0.\n",
      "Warning: Empty candidate sentence detected; setting raw BERTscores to 0.\n",
      "Warning: Empty candidate sentence detected; setting raw BERTscores to 0.\n"
     ]
    },
    {
     "name": "stdout",
     "output_type": "stream",
     "text": [
      "✅ Lote 335 salvo em 'lotes_avaliados/avaliacao_resumos_lote_334.csv'\n",
      "\n",
      "🔄 Processando lote 336/386...\n"
     ]
    },
    {
     "name": "stderr",
     "output_type": "stream",
     "text": [
      "→ ROUGE/BLEU HEADLINE: 100%|██████████| 200/200 [00:00<00:00, 274.53it/s]\n",
      "Some weights of RobertaModel were not initialized from the model checkpoint at roberta-large and are newly initialized: ['pooler.dense.bias', 'pooler.dense.weight']\n",
      "You should probably TRAIN this model on a down-stream task to be able to use it for predictions and inference.\n",
      "Warning: Empty candidate sentence detected; setting raw BERTscores to 0.\n",
      "Warning: Empty candidate sentence detected; setting raw BERTscores to 0.\n"
     ]
    },
    {
     "name": "stdout",
     "output_type": "stream",
     "text": [
      "✅ Lote 336 salvo em 'lotes_avaliados/avaliacao_resumos_lote_335.csv'\n",
      "\n",
      "🔄 Processando lote 337/386...\n"
     ]
    },
    {
     "name": "stderr",
     "output_type": "stream",
     "text": [
      "→ ROUGE/BLEU HEADLINE: 100%|██████████| 200/200 [00:00<00:00, 209.64it/s]\n",
      "Some weights of RobertaModel were not initialized from the model checkpoint at roberta-large and are newly initialized: ['pooler.dense.bias', 'pooler.dense.weight']\n",
      "You should probably TRAIN this model on a down-stream task to be able to use it for predictions and inference.\n",
      "Warning: Empty candidate sentence detected; setting raw BERTscores to 0.\n",
      "Warning: Empty candidate sentence detected; setting raw BERTscores to 0.\n",
      "Warning: Empty candidate sentence detected; setting raw BERTscores to 0.\n"
     ]
    },
    {
     "name": "stdout",
     "output_type": "stream",
     "text": [
      "✅ Lote 337 salvo em 'lotes_avaliados/avaliacao_resumos_lote_336.csv'\n",
      "\n",
      "🔄 Processando lote 338/386...\n"
     ]
    },
    {
     "name": "stderr",
     "output_type": "stream",
     "text": [
      "→ ROUGE/BLEU HEADLINE: 100%|██████████| 200/200 [00:00<00:00, 711.50it/s]\n",
      "Some weights of RobertaModel were not initialized from the model checkpoint at roberta-large and are newly initialized: ['pooler.dense.bias', 'pooler.dense.weight']\n",
      "You should probably TRAIN this model on a down-stream task to be able to use it for predictions and inference.\n",
      "Warning: Empty candidate sentence detected; setting raw BERTscores to 0.\n"
     ]
    },
    {
     "name": "stdout",
     "output_type": "stream",
     "text": [
      "✅ Lote 338 salvo em 'lotes_avaliados/avaliacao_resumos_lote_337.csv'\n",
      "\n",
      "🔄 Processando lote 339/386...\n"
     ]
    },
    {
     "name": "stderr",
     "output_type": "stream",
     "text": [
      "→ ROUGE/BLEU HEADLINE: 100%|██████████| 200/200 [00:00<00:00, 442.78it/s]\n",
      "Some weights of RobertaModel were not initialized from the model checkpoint at roberta-large and are newly initialized: ['pooler.dense.bias', 'pooler.dense.weight']\n",
      "You should probably TRAIN this model on a down-stream task to be able to use it for predictions and inference.\n",
      "Warning: Empty candidate sentence detected; setting raw BERTscores to 0.\n",
      "Warning: Empty candidate sentence detected; setting raw BERTscores to 0.\n",
      "Warning: Empty candidate sentence detected; setting raw BERTscores to 0.\n"
     ]
    },
    {
     "name": "stdout",
     "output_type": "stream",
     "text": [
      "✅ Lote 339 salvo em 'lotes_avaliados/avaliacao_resumos_lote_338.csv'\n",
      "\n",
      "🔄 Processando lote 340/386...\n"
     ]
    },
    {
     "name": "stderr",
     "output_type": "stream",
     "text": [
      "→ ROUGE/BLEU HEADLINE: 100%|██████████| 200/200 [00:00<00:00, 395.71it/s]\n",
      "Some weights of RobertaModel were not initialized from the model checkpoint at roberta-large and are newly initialized: ['pooler.dense.bias', 'pooler.dense.weight']\n",
      "You should probably TRAIN this model on a down-stream task to be able to use it for predictions and inference.\n",
      "Warning: Empty candidate sentence detected; setting raw BERTscores to 0.\n",
      "Warning: Empty candidate sentence detected; setting raw BERTscores to 0.\n",
      "Warning: Empty candidate sentence detected; setting raw BERTscores to 0.\n"
     ]
    },
    {
     "name": "stdout",
     "output_type": "stream",
     "text": [
      "✅ Lote 340 salvo em 'lotes_avaliados/avaliacao_resumos_lote_339.csv'\n",
      "\n",
      "🔄 Processando lote 341/386...\n"
     ]
    },
    {
     "name": "stderr",
     "output_type": "stream",
     "text": [
      "→ ROUGE/BLEU HEADLINE: 100%|██████████| 200/200 [00:00<00:00, 325.75it/s]\n",
      "Some weights of RobertaModel were not initialized from the model checkpoint at roberta-large and are newly initialized: ['pooler.dense.bias', 'pooler.dense.weight']\n",
      "You should probably TRAIN this model on a down-stream task to be able to use it for predictions and inference.\n",
      "Warning: Empty candidate sentence detected; setting raw BERTscores to 0.\n",
      "Warning: Empty candidate sentence detected; setting raw BERTscores to 0.\n",
      "Warning: Empty candidate sentence detected; setting raw BERTscores to 0.\n"
     ]
    },
    {
     "name": "stdout",
     "output_type": "stream",
     "text": [
      "✅ Lote 341 salvo em 'lotes_avaliados/avaliacao_resumos_lote_340.csv'\n",
      "\n",
      "🔄 Processando lote 342/386...\n"
     ]
    },
    {
     "name": "stderr",
     "output_type": "stream",
     "text": [
      "→ ROUGE/BLEU HEADLINE: 100%|██████████| 200/200 [00:00<00:00, 239.54it/s]\n",
      "Some weights of RobertaModel were not initialized from the model checkpoint at roberta-large and are newly initialized: ['pooler.dense.bias', 'pooler.dense.weight']\n",
      "You should probably TRAIN this model on a down-stream task to be able to use it for predictions and inference.\n",
      "Warning: Empty candidate sentence detected; setting raw BERTscores to 0.\n",
      "Warning: Empty candidate sentence detected; setting raw BERTscores to 0.\n",
      "Warning: Empty candidate sentence detected; setting raw BERTscores to 0.\n"
     ]
    },
    {
     "name": "stdout",
     "output_type": "stream",
     "text": [
      "✅ Lote 342 salvo em 'lotes_avaliados/avaliacao_resumos_lote_341.csv'\n",
      "\n",
      "🔄 Processando lote 343/386...\n"
     ]
    },
    {
     "name": "stderr",
     "output_type": "stream",
     "text": [
      "→ ROUGE/BLEU HEADLINE: 100%|██████████| 200/200 [00:00<00:00, 307.37it/s]\n",
      "Some weights of RobertaModel were not initialized from the model checkpoint at roberta-large and are newly initialized: ['pooler.dense.bias', 'pooler.dense.weight']\n",
      "You should probably TRAIN this model on a down-stream task to be able to use it for predictions and inference.\n",
      "Warning: Empty candidate sentence detected; setting raw BERTscores to 0.\n",
      "Warning: Empty candidate sentence detected; setting raw BERTscores to 0.\n"
     ]
    },
    {
     "name": "stdout",
     "output_type": "stream",
     "text": [
      "✅ Lote 343 salvo em 'lotes_avaliados/avaliacao_resumos_lote_342.csv'\n",
      "\n",
      "🔄 Processando lote 344/386...\n"
     ]
    },
    {
     "name": "stderr",
     "output_type": "stream",
     "text": [
      "→ ROUGE/BLEU HEADLINE: 100%|██████████| 200/200 [00:01<00:00, 152.81it/s]\n",
      "Some weights of RobertaModel were not initialized from the model checkpoint at roberta-large and are newly initialized: ['pooler.dense.bias', 'pooler.dense.weight']\n",
      "You should probably TRAIN this model on a down-stream task to be able to use it for predictions and inference.\n",
      "Warning: Empty candidate sentence detected; setting raw BERTscores to 0.\n",
      "Warning: Empty candidate sentence detected; setting raw BERTscores to 0.\n",
      "Warning: Empty candidate sentence detected; setting raw BERTscores to 0.\n",
      "Warning: Empty candidate sentence detected; setting raw BERTscores to 0.\n"
     ]
    },
    {
     "name": "stdout",
     "output_type": "stream",
     "text": [
      "✅ Lote 344 salvo em 'lotes_avaliados/avaliacao_resumos_lote_343.csv'\n",
      "\n",
      "🔄 Processando lote 345/386...\n"
     ]
    },
    {
     "name": "stderr",
     "output_type": "stream",
     "text": [
      "→ ROUGE/BLEU HEADLINE: 100%|██████████| 200/200 [00:00<00:00, 251.25it/s]\n",
      "Some weights of RobertaModel were not initialized from the model checkpoint at roberta-large and are newly initialized: ['pooler.dense.bias', 'pooler.dense.weight']\n",
      "You should probably TRAIN this model on a down-stream task to be able to use it for predictions and inference.\n",
      "Warning: Empty candidate sentence detected; setting raw BERTscores to 0.\n",
      "Warning: Empty candidate sentence detected; setting raw BERTscores to 0.\n",
      "Warning: Empty candidate sentence detected; setting raw BERTscores to 0.\n"
     ]
    },
    {
     "name": "stdout",
     "output_type": "stream",
     "text": [
      "✅ Lote 345 salvo em 'lotes_avaliados/avaliacao_resumos_lote_344.csv'\n",
      "\n",
      "🔄 Processando lote 346/386...\n"
     ]
    },
    {
     "name": "stderr",
     "output_type": "stream",
     "text": [
      "→ ROUGE/BLEU HEADLINE: 100%|██████████| 200/200 [00:00<00:00, 350.60it/s]\n",
      "Some weights of RobertaModel were not initialized from the model checkpoint at roberta-large and are newly initialized: ['pooler.dense.bias', 'pooler.dense.weight']\n",
      "You should probably TRAIN this model on a down-stream task to be able to use it for predictions and inference.\n",
      "Warning: Empty candidate sentence detected; setting raw BERTscores to 0.\n",
      "Warning: Empty candidate sentence detected; setting raw BERTscores to 0.\n",
      "Warning: Empty candidate sentence detected; setting raw BERTscores to 0.\n",
      "Warning: Empty candidate sentence detected; setting raw BERTscores to 0.\n"
     ]
    },
    {
     "name": "stdout",
     "output_type": "stream",
     "text": [
      "✅ Lote 346 salvo em 'lotes_avaliados/avaliacao_resumos_lote_345.csv'\n",
      "\n",
      "🔄 Processando lote 347/386...\n"
     ]
    },
    {
     "name": "stderr",
     "output_type": "stream",
     "text": [
      "→ ROUGE/BLEU HEADLINE: 100%|██████████| 200/200 [00:00<00:00, 274.89it/s]\n",
      "Some weights of RobertaModel were not initialized from the model checkpoint at roberta-large and are newly initialized: ['pooler.dense.bias', 'pooler.dense.weight']\n",
      "You should probably TRAIN this model on a down-stream task to be able to use it for predictions and inference.\n",
      "Warning: Empty candidate sentence detected; setting raw BERTscores to 0.\n",
      "Warning: Empty candidate sentence detected; setting raw BERTscores to 0.\n",
      "Warning: Empty candidate sentence detected; setting raw BERTscores to 0.\n",
      "Warning: Empty candidate sentence detected; setting raw BERTscores to 0.\n"
     ]
    },
    {
     "name": "stdout",
     "output_type": "stream",
     "text": [
      "✅ Lote 347 salvo em 'lotes_avaliados/avaliacao_resumos_lote_346.csv'\n",
      "\n",
      "🔄 Processando lote 348/386...\n"
     ]
    },
    {
     "name": "stderr",
     "output_type": "stream",
     "text": [
      "→ ROUGE/BLEU HEADLINE: 100%|██████████| 200/200 [00:00<00:00, 280.58it/s]\n",
      "Some weights of RobertaModel were not initialized from the model checkpoint at roberta-large and are newly initialized: ['pooler.dense.bias', 'pooler.dense.weight']\n",
      "You should probably TRAIN this model on a down-stream task to be able to use it for predictions and inference.\n",
      "Warning: Empty candidate sentence detected; setting raw BERTscores to 0.\n",
      "Warning: Empty candidate sentence detected; setting raw BERTscores to 0.\n",
      "Warning: Empty candidate sentence detected; setting raw BERTscores to 0.\n"
     ]
    },
    {
     "name": "stdout",
     "output_type": "stream",
     "text": [
      "✅ Lote 348 salvo em 'lotes_avaliados/avaliacao_resumos_lote_347.csv'\n",
      "\n",
      "🔄 Processando lote 349/386...\n"
     ]
    },
    {
     "name": "stderr",
     "output_type": "stream",
     "text": [
      "→ ROUGE/BLEU HEADLINE: 100%|██████████| 200/200 [00:00<00:00, 250.46it/s]\n",
      "Some weights of RobertaModel were not initialized from the model checkpoint at roberta-large and are newly initialized: ['pooler.dense.bias', 'pooler.dense.weight']\n",
      "You should probably TRAIN this model on a down-stream task to be able to use it for predictions and inference.\n",
      "Warning: Empty candidate sentence detected; setting raw BERTscores to 0.\n",
      "Warning: Empty candidate sentence detected; setting raw BERTscores to 0.\n",
      "Warning: Empty candidate sentence detected; setting raw BERTscores to 0.\n",
      "Warning: Empty candidate sentence detected; setting raw BERTscores to 0.\n"
     ]
    },
    {
     "name": "stdout",
     "output_type": "stream",
     "text": [
      "✅ Lote 349 salvo em 'lotes_avaliados/avaliacao_resumos_lote_348.csv'\n",
      "\n",
      "🔄 Processando lote 350/386...\n"
     ]
    },
    {
     "name": "stderr",
     "output_type": "stream",
     "text": [
      "→ ROUGE/BLEU HEADLINE: 100%|██████████| 200/200 [00:00<00:00, 272.72it/s]\n",
      "Some weights of RobertaModel were not initialized from the model checkpoint at roberta-large and are newly initialized: ['pooler.dense.bias', 'pooler.dense.weight']\n",
      "You should probably TRAIN this model on a down-stream task to be able to use it for predictions and inference.\n",
      "Warning: Empty candidate sentence detected; setting raw BERTscores to 0.\n",
      "Warning: Empty candidate sentence detected; setting raw BERTscores to 0.\n",
      "Warning: Empty candidate sentence detected; setting raw BERTscores to 0.\n",
      "Warning: Empty candidate sentence detected; setting raw BERTscores to 0.\n"
     ]
    },
    {
     "name": "stdout",
     "output_type": "stream",
     "text": [
      "✅ Lote 350 salvo em 'lotes_avaliados/avaliacao_resumos_lote_349.csv'\n",
      "\n",
      "🔄 Processando lote 351/386...\n"
     ]
    },
    {
     "name": "stderr",
     "output_type": "stream",
     "text": [
      "→ ROUGE/BLEU HEADLINE: 100%|██████████| 200/200 [00:00<00:00, 218.39it/s]\n",
      "Some weights of RobertaModel were not initialized from the model checkpoint at roberta-large and are newly initialized: ['pooler.dense.bias', 'pooler.dense.weight']\n",
      "You should probably TRAIN this model on a down-stream task to be able to use it for predictions and inference.\n",
      "Warning: Empty candidate sentence detected; setting raw BERTscores to 0.\n",
      "Warning: Empty candidate sentence detected; setting raw BERTscores to 0.\n",
      "Warning: Empty candidate sentence detected; setting raw BERTscores to 0.\n"
     ]
    },
    {
     "name": "stdout",
     "output_type": "stream",
     "text": [
      "✅ Lote 351 salvo em 'lotes_avaliados/avaliacao_resumos_lote_350.csv'\n",
      "\n",
      "🔄 Processando lote 352/386...\n"
     ]
    },
    {
     "name": "stderr",
     "output_type": "stream",
     "text": [
      "→ ROUGE/BLEU HEADLINE: 100%|██████████| 200/200 [00:00<00:00, 274.61it/s]\n",
      "Some weights of RobertaModel were not initialized from the model checkpoint at roberta-large and are newly initialized: ['pooler.dense.bias', 'pooler.dense.weight']\n",
      "You should probably TRAIN this model on a down-stream task to be able to use it for predictions and inference.\n",
      "Warning: Empty candidate sentence detected; setting raw BERTscores to 0.\n",
      "Warning: Empty candidate sentence detected; setting raw BERTscores to 0.\n",
      "Warning: Empty candidate sentence detected; setting raw BERTscores to 0.\n"
     ]
    },
    {
     "name": "stdout",
     "output_type": "stream",
     "text": [
      "✅ Lote 352 salvo em 'lotes_avaliados/avaliacao_resumos_lote_351.csv'\n",
      "\n",
      "🔄 Processando lote 353/386...\n"
     ]
    },
    {
     "name": "stderr",
     "output_type": "stream",
     "text": [
      "→ ROUGE/BLEU HEADLINE: 100%|██████████| 200/200 [00:00<00:00, 240.94it/s]\n",
      "Some weights of RobertaModel were not initialized from the model checkpoint at roberta-large and are newly initialized: ['pooler.dense.bias', 'pooler.dense.weight']\n",
      "You should probably TRAIN this model on a down-stream task to be able to use it for predictions and inference.\n",
      "Warning: Empty candidate sentence detected; setting raw BERTscores to 0.\n",
      "Warning: Empty candidate sentence detected; setting raw BERTscores to 0.\n",
      "Warning: Empty candidate sentence detected; setting raw BERTscores to 0.\n",
      "Warning: Empty candidate sentence detected; setting raw BERTscores to 0.\n"
     ]
    },
    {
     "name": "stdout",
     "output_type": "stream",
     "text": [
      "✅ Lote 353 salvo em 'lotes_avaliados/avaliacao_resumos_lote_352.csv'\n",
      "\n",
      "🔄 Processando lote 354/386...\n"
     ]
    },
    {
     "name": "stderr",
     "output_type": "stream",
     "text": [
      "→ ROUGE/BLEU HEADLINE: 100%|██████████| 200/200 [00:00<00:00, 228.91it/s]\n",
      "Some weights of RobertaModel were not initialized from the model checkpoint at roberta-large and are newly initialized: ['pooler.dense.bias', 'pooler.dense.weight']\n",
      "You should probably TRAIN this model on a down-stream task to be able to use it for predictions and inference.\n",
      "Warning: Empty candidate sentence detected; setting raw BERTscores to 0.\n",
      "Warning: Empty candidate sentence detected; setting raw BERTscores to 0.\n",
      "Warning: Empty candidate sentence detected; setting raw BERTscores to 0.\n"
     ]
    },
    {
     "name": "stdout",
     "output_type": "stream",
     "text": [
      "✅ Lote 354 salvo em 'lotes_avaliados/avaliacao_resumos_lote_353.csv'\n",
      "\n",
      "🔄 Processando lote 355/386...\n"
     ]
    },
    {
     "name": "stderr",
     "output_type": "stream",
     "text": [
      "→ ROUGE/BLEU HEADLINE: 100%|██████████| 200/200 [00:00<00:00, 272.44it/s]\n",
      "Some weights of RobertaModel were not initialized from the model checkpoint at roberta-large and are newly initialized: ['pooler.dense.bias', 'pooler.dense.weight']\n",
      "You should probably TRAIN this model on a down-stream task to be able to use it for predictions and inference.\n",
      "Warning: Empty candidate sentence detected; setting raw BERTscores to 0.\n",
      "Warning: Empty candidate sentence detected; setting raw BERTscores to 0.\n",
      "Warning: Empty candidate sentence detected; setting raw BERTscores to 0.\n"
     ]
    },
    {
     "name": "stdout",
     "output_type": "stream",
     "text": [
      "✅ Lote 355 salvo em 'lotes_avaliados/avaliacao_resumos_lote_354.csv'\n",
      "\n",
      "🔄 Processando lote 356/386...\n"
     ]
    },
    {
     "name": "stderr",
     "output_type": "stream",
     "text": [
      "→ ROUGE/BLEU HEADLINE: 100%|██████████| 200/200 [00:00<00:00, 245.89it/s]\n",
      "Some weights of RobertaModel were not initialized from the model checkpoint at roberta-large and are newly initialized: ['pooler.dense.bias', 'pooler.dense.weight']\n",
      "You should probably TRAIN this model on a down-stream task to be able to use it for predictions and inference.\n",
      "Warning: Empty candidate sentence detected; setting raw BERTscores to 0.\n",
      "Warning: Empty candidate sentence detected; setting raw BERTscores to 0.\n",
      "Warning: Empty candidate sentence detected; setting raw BERTscores to 0.\n",
      "Warning: Empty candidate sentence detected; setting raw BERTscores to 0.\n"
     ]
    },
    {
     "name": "stdout",
     "output_type": "stream",
     "text": [
      "✅ Lote 356 salvo em 'lotes_avaliados/avaliacao_resumos_lote_355.csv'\n",
      "\n",
      "🔄 Processando lote 357/386...\n"
     ]
    },
    {
     "name": "stderr",
     "output_type": "stream",
     "text": [
      "→ ROUGE/BLEU HEADLINE: 100%|██████████| 200/200 [00:00<00:00, 482.94it/s]\n",
      "Some weights of RobertaModel were not initialized from the model checkpoint at roberta-large and are newly initialized: ['pooler.dense.bias', 'pooler.dense.weight']\n",
      "You should probably TRAIN this model on a down-stream task to be able to use it for predictions and inference.\n",
      "Warning: Empty candidate sentence detected; setting raw BERTscores to 0.\n",
      "Warning: Empty candidate sentence detected; setting raw BERTscores to 0.\n",
      "Warning: Empty candidate sentence detected; setting raw BERTscores to 0.\n"
     ]
    },
    {
     "name": "stdout",
     "output_type": "stream",
     "text": [
      "✅ Lote 357 salvo em 'lotes_avaliados/avaliacao_resumos_lote_356.csv'\n",
      "\n",
      "🔄 Processando lote 358/386...\n"
     ]
    },
    {
     "name": "stderr",
     "output_type": "stream",
     "text": [
      "→ ROUGE/BLEU HEADLINE: 100%|██████████| 200/200 [00:00<00:00, 426.70it/s]\n",
      "Some weights of RobertaModel were not initialized from the model checkpoint at roberta-large and are newly initialized: ['pooler.dense.bias', 'pooler.dense.weight']\n",
      "You should probably TRAIN this model on a down-stream task to be able to use it for predictions and inference.\n",
      "Warning: Empty candidate sentence detected; setting raw BERTscores to 0.\n",
      "Warning: Empty candidate sentence detected; setting raw BERTscores to 0.\n",
      "Warning: Empty candidate sentence detected; setting raw BERTscores to 0.\n",
      "Warning: Empty candidate sentence detected; setting raw BERTscores to 0.\n"
     ]
    },
    {
     "name": "stdout",
     "output_type": "stream",
     "text": [
      "✅ Lote 358 salvo em 'lotes_avaliados/avaliacao_resumos_lote_357.csv'\n",
      "\n",
      "🔄 Processando lote 359/386...\n"
     ]
    },
    {
     "name": "stderr",
     "output_type": "stream",
     "text": [
      "→ ROUGE/BLEU HEADLINE: 100%|██████████| 200/200 [00:00<00:00, 269.86it/s]\n",
      "Some weights of RobertaModel were not initialized from the model checkpoint at roberta-large and are newly initialized: ['pooler.dense.bias', 'pooler.dense.weight']\n",
      "You should probably TRAIN this model on a down-stream task to be able to use it for predictions and inference.\n",
      "Warning: Empty candidate sentence detected; setting raw BERTscores to 0.\n",
      "Warning: Empty candidate sentence detected; setting raw BERTscores to 0.\n",
      "Warning: Empty candidate sentence detected; setting raw BERTscores to 0.\n"
     ]
    },
    {
     "name": "stdout",
     "output_type": "stream",
     "text": [
      "✅ Lote 359 salvo em 'lotes_avaliados/avaliacao_resumos_lote_358.csv'\n",
      "\n",
      "🔄 Processando lote 360/386...\n"
     ]
    },
    {
     "name": "stderr",
     "output_type": "stream",
     "text": [
      "→ ROUGE/BLEU HEADLINE: 100%|██████████| 200/200 [00:00<00:00, 286.71it/s]\n",
      "Some weights of RobertaModel were not initialized from the model checkpoint at roberta-large and are newly initialized: ['pooler.dense.bias', 'pooler.dense.weight']\n",
      "You should probably TRAIN this model on a down-stream task to be able to use it for predictions and inference.\n",
      "Warning: Empty candidate sentence detected; setting raw BERTscores to 0.\n",
      "Warning: Empty candidate sentence detected; setting raw BERTscores to 0.\n",
      "Warning: Empty candidate sentence detected; setting raw BERTscores to 0.\n"
     ]
    },
    {
     "name": "stdout",
     "output_type": "stream",
     "text": [
      "✅ Lote 360 salvo em 'lotes_avaliados/avaliacao_resumos_lote_359.csv'\n",
      "\n",
      "🔄 Processando lote 361/386...\n"
     ]
    },
    {
     "name": "stderr",
     "output_type": "stream",
     "text": [
      "→ ROUGE/BLEU HEADLINE: 100%|██████████| 200/200 [00:00<00:00, 371.70it/s]\n",
      "Some weights of RobertaModel were not initialized from the model checkpoint at roberta-large and are newly initialized: ['pooler.dense.bias', 'pooler.dense.weight']\n",
      "You should probably TRAIN this model on a down-stream task to be able to use it for predictions and inference.\n",
      "Warning: Empty candidate sentence detected; setting raw BERTscores to 0.\n",
      "Warning: Empty candidate sentence detected; setting raw BERTscores to 0.\n",
      "Warning: Empty candidate sentence detected; setting raw BERTscores to 0.\n",
      "Warning: Empty candidate sentence detected; setting raw BERTscores to 0.\n"
     ]
    },
    {
     "name": "stdout",
     "output_type": "stream",
     "text": [
      "✅ Lote 361 salvo em 'lotes_avaliados/avaliacao_resumos_lote_360.csv'\n",
      "\n",
      "🔄 Processando lote 362/386...\n"
     ]
    },
    {
     "name": "stderr",
     "output_type": "stream",
     "text": [
      "→ ROUGE/BLEU HEADLINE: 100%|██████████| 200/200 [00:01<00:00, 137.21it/s]\n",
      "Some weights of RobertaModel were not initialized from the model checkpoint at roberta-large and are newly initialized: ['pooler.dense.bias', 'pooler.dense.weight']\n",
      "You should probably TRAIN this model on a down-stream task to be able to use it for predictions and inference.\n",
      "Warning: Empty candidate sentence detected; setting raw BERTscores to 0.\n",
      "Warning: Empty candidate sentence detected; setting raw BERTscores to 0.\n",
      "Warning: Empty candidate sentence detected; setting raw BERTscores to 0.\n"
     ]
    },
    {
     "name": "stdout",
     "output_type": "stream",
     "text": [
      "✅ Lote 362 salvo em 'lotes_avaliados/avaliacao_resumos_lote_361.csv'\n",
      "\n",
      "🔄 Processando lote 363/386...\n"
     ]
    },
    {
     "name": "stderr",
     "output_type": "stream",
     "text": [
      "→ ROUGE/BLEU HEADLINE: 100%|██████████| 200/200 [00:01<00:00, 105.96it/s]\n",
      "Some weights of RobertaModel were not initialized from the model checkpoint at roberta-large and are newly initialized: ['pooler.dense.bias', 'pooler.dense.weight']\n",
      "You should probably TRAIN this model on a down-stream task to be able to use it for predictions and inference.\n",
      "Warning: Empty candidate sentence detected; setting raw BERTscores to 0.\n",
      "Warning: Empty candidate sentence detected; setting raw BERTscores to 0.\n",
      "Warning: Empty candidate sentence detected; setting raw BERTscores to 0.\n",
      "Warning: Empty candidate sentence detected; setting raw BERTscores to 0.\n"
     ]
    },
    {
     "name": "stdout",
     "output_type": "stream",
     "text": [
      "✅ Lote 363 salvo em 'lotes_avaliados/avaliacao_resumos_lote_362.csv'\n",
      "\n",
      "🔄 Processando lote 364/386...\n"
     ]
    },
    {
     "name": "stderr",
     "output_type": "stream",
     "text": [
      "→ ROUGE/BLEU HEADLINE: 100%|██████████| 200/200 [00:02<00:00, 98.48it/s] \n",
      "Some weights of RobertaModel were not initialized from the model checkpoint at roberta-large and are newly initialized: ['pooler.dense.bias', 'pooler.dense.weight']\n",
      "You should probably TRAIN this model on a down-stream task to be able to use it for predictions and inference.\n",
      "Warning: Empty candidate sentence detected; setting raw BERTscores to 0.\n",
      "Warning: Empty candidate sentence detected; setting raw BERTscores to 0.\n",
      "Warning: Empty candidate sentence detected; setting raw BERTscores to 0.\n"
     ]
    },
    {
     "name": "stdout",
     "output_type": "stream",
     "text": [
      "✅ Lote 364 salvo em 'lotes_avaliados/avaliacao_resumos_lote_363.csv'\n",
      "\n",
      "🔄 Processando lote 365/386...\n"
     ]
    },
    {
     "name": "stderr",
     "output_type": "stream",
     "text": [
      "→ ROUGE/BLEU HEADLINE: 100%|██████████| 200/200 [00:01<00:00, 122.32it/s]\n",
      "Some weights of RobertaModel were not initialized from the model checkpoint at roberta-large and are newly initialized: ['pooler.dense.bias', 'pooler.dense.weight']\n",
      "You should probably TRAIN this model on a down-stream task to be able to use it for predictions and inference.\n",
      "Warning: Empty candidate sentence detected; setting raw BERTscores to 0.\n",
      "Warning: Empty candidate sentence detected; setting raw BERTscores to 0.\n",
      "Warning: Empty candidate sentence detected; setting raw BERTscores to 0.\n"
     ]
    },
    {
     "name": "stdout",
     "output_type": "stream",
     "text": [
      "✅ Lote 365 salvo em 'lotes_avaliados/avaliacao_resumos_lote_364.csv'\n",
      "\n",
      "🔄 Processando lote 366/386...\n"
     ]
    },
    {
     "name": "stderr",
     "output_type": "stream",
     "text": [
      "→ ROUGE/BLEU HEADLINE: 100%|██████████| 200/200 [00:01<00:00, 105.91it/s]\n",
      "Some weights of RobertaModel were not initialized from the model checkpoint at roberta-large and are newly initialized: ['pooler.dense.bias', 'pooler.dense.weight']\n",
      "You should probably TRAIN this model on a down-stream task to be able to use it for predictions and inference.\n",
      "Warning: Empty candidate sentence detected; setting raw BERTscores to 0.\n",
      "Warning: Empty candidate sentence detected; setting raw BERTscores to 0.\n",
      "Warning: Empty candidate sentence detected; setting raw BERTscores to 0.\n",
      "Warning: Empty candidate sentence detected; setting raw BERTscores to 0.\n"
     ]
    },
    {
     "name": "stdout",
     "output_type": "stream",
     "text": [
      "✅ Lote 366 salvo em 'lotes_avaliados/avaliacao_resumos_lote_365.csv'\n",
      "\n",
      "🔄 Processando lote 367/386...\n"
     ]
    },
    {
     "name": "stderr",
     "output_type": "stream",
     "text": [
      "→ ROUGE/BLEU HEADLINE: 100%|██████████| 200/200 [00:01<00:00, 111.60it/s]\n",
      "Some weights of RobertaModel were not initialized from the model checkpoint at roberta-large and are newly initialized: ['pooler.dense.bias', 'pooler.dense.weight']\n",
      "You should probably TRAIN this model on a down-stream task to be able to use it for predictions and inference.\n",
      "Warning: Empty candidate sentence detected; setting raw BERTscores to 0.\n",
      "Warning: Empty candidate sentence detected; setting raw BERTscores to 0.\n",
      "Warning: Empty candidate sentence detected; setting raw BERTscores to 0.\n"
     ]
    },
    {
     "name": "stdout",
     "output_type": "stream",
     "text": [
      "✅ Lote 367 salvo em 'lotes_avaliados/avaliacao_resumos_lote_366.csv'\n",
      "\n",
      "🔄 Processando lote 368/386...\n"
     ]
    },
    {
     "name": "stderr",
     "output_type": "stream",
     "text": [
      "→ ROUGE/BLEU HEADLINE: 100%|██████████| 200/200 [00:01<00:00, 110.20it/s]\n",
      "Some weights of RobertaModel were not initialized from the model checkpoint at roberta-large and are newly initialized: ['pooler.dense.bias', 'pooler.dense.weight']\n",
      "You should probably TRAIN this model on a down-stream task to be able to use it for predictions and inference.\n",
      "Warning: Empty candidate sentence detected; setting raw BERTscores to 0.\n",
      "Warning: Empty candidate sentence detected; setting raw BERTscores to 0.\n",
      "Warning: Empty candidate sentence detected; setting raw BERTscores to 0.\n"
     ]
    },
    {
     "name": "stdout",
     "output_type": "stream",
     "text": [
      "✅ Lote 368 salvo em 'lotes_avaliados/avaliacao_resumos_lote_367.csv'\n",
      "\n",
      "🔄 Processando lote 369/386...\n"
     ]
    },
    {
     "name": "stderr",
     "output_type": "stream",
     "text": [
      "→ ROUGE/BLEU HEADLINE: 100%|██████████| 200/200 [00:01<00:00, 104.41it/s]\n",
      "Some weights of RobertaModel were not initialized from the model checkpoint at roberta-large and are newly initialized: ['pooler.dense.bias', 'pooler.dense.weight']\n",
      "You should probably TRAIN this model on a down-stream task to be able to use it for predictions and inference.\n",
      "Warning: Empty candidate sentence detected; setting raw BERTscores to 0.\n",
      "Warning: Empty candidate sentence detected; setting raw BERTscores to 0.\n",
      "Warning: Empty candidate sentence detected; setting raw BERTscores to 0.\n"
     ]
    },
    {
     "name": "stdout",
     "output_type": "stream",
     "text": [
      "✅ Lote 369 salvo em 'lotes_avaliados/avaliacao_resumos_lote_368.csv'\n",
      "\n",
      "🔄 Processando lote 370/386...\n"
     ]
    },
    {
     "name": "stderr",
     "output_type": "stream",
     "text": [
      "→ ROUGE/BLEU HEADLINE: 100%|██████████| 200/200 [00:01<00:00, 162.71it/s]\n",
      "Some weights of RobertaModel were not initialized from the model checkpoint at roberta-large and are newly initialized: ['pooler.dense.bias', 'pooler.dense.weight']\n",
      "You should probably TRAIN this model on a down-stream task to be able to use it for predictions and inference.\n",
      "Warning: Empty candidate sentence detected; setting raw BERTscores to 0.\n",
      "Warning: Empty candidate sentence detected; setting raw BERTscores to 0.\n",
      "Warning: Empty candidate sentence detected; setting raw BERTscores to 0.\n"
     ]
    },
    {
     "name": "stdout",
     "output_type": "stream",
     "text": [
      "✅ Lote 370 salvo em 'lotes_avaliados/avaliacao_resumos_lote_369.csv'\n",
      "\n",
      "🔄 Processando lote 371/386...\n"
     ]
    },
    {
     "name": "stderr",
     "output_type": "stream",
     "text": [
      "→ ROUGE/BLEU HEADLINE: 100%|██████████| 200/200 [00:00<00:00, 235.56it/s]\n",
      "Some weights of RobertaModel were not initialized from the model checkpoint at roberta-large and are newly initialized: ['pooler.dense.bias', 'pooler.dense.weight']\n",
      "You should probably TRAIN this model on a down-stream task to be able to use it for predictions and inference.\n",
      "Warning: Empty candidate sentence detected; setting raw BERTscores to 0.\n",
      "Warning: Empty candidate sentence detected; setting raw BERTscores to 0.\n"
     ]
    },
    {
     "name": "stdout",
     "output_type": "stream",
     "text": [
      "✅ Lote 371 salvo em 'lotes_avaliados/avaliacao_resumos_lote_370.csv'\n",
      "\n",
      "🔄 Processando lote 372/386...\n"
     ]
    },
    {
     "name": "stderr",
     "output_type": "stream",
     "text": [
      "→ ROUGE/BLEU HEADLINE: 100%|██████████| 200/200 [00:01<00:00, 110.08it/s]\n",
      "Some weights of RobertaModel were not initialized from the model checkpoint at roberta-large and are newly initialized: ['pooler.dense.bias', 'pooler.dense.weight']\n",
      "You should probably TRAIN this model on a down-stream task to be able to use it for predictions and inference.\n",
      "Warning: Empty candidate sentence detected; setting raw BERTscores to 0.\n",
      "Warning: Empty candidate sentence detected; setting raw BERTscores to 0.\n",
      "Warning: Empty candidate sentence detected; setting raw BERTscores to 0.\n"
     ]
    },
    {
     "name": "stdout",
     "output_type": "stream",
     "text": [
      "✅ Lote 372 salvo em 'lotes_avaliados/avaliacao_resumos_lote_371.csv'\n",
      "\n",
      "🔄 Processando lote 373/386...\n"
     ]
    },
    {
     "name": "stderr",
     "output_type": "stream",
     "text": [
      "→ ROUGE/BLEU HEADLINE: 100%|██████████| 200/200 [00:01<00:00, 121.76it/s]\n",
      "Some weights of RobertaModel were not initialized from the model checkpoint at roberta-large and are newly initialized: ['pooler.dense.bias', 'pooler.dense.weight']\n",
      "You should probably TRAIN this model on a down-stream task to be able to use it for predictions and inference.\n",
      "Warning: Empty candidate sentence detected; setting raw BERTscores to 0.\n",
      "Warning: Empty candidate sentence detected; setting raw BERTscores to 0.\n",
      "Warning: Empty candidate sentence detected; setting raw BERTscores to 0.\n",
      "Warning: Empty candidate sentence detected; setting raw BERTscores to 0.\n"
     ]
    },
    {
     "name": "stdout",
     "output_type": "stream",
     "text": [
      "✅ Lote 373 salvo em 'lotes_avaliados/avaliacao_resumos_lote_372.csv'\n",
      "\n",
      "🔄 Processando lote 374/386...\n"
     ]
    },
    {
     "name": "stderr",
     "output_type": "stream",
     "text": [
      "→ ROUGE/BLEU HEADLINE: 100%|██████████| 200/200 [00:01<00:00, 116.86it/s]\n",
      "Some weights of RobertaModel were not initialized from the model checkpoint at roberta-large and are newly initialized: ['pooler.dense.bias', 'pooler.dense.weight']\n",
      "You should probably TRAIN this model on a down-stream task to be able to use it for predictions and inference.\n",
      "Warning: Empty candidate sentence detected; setting raw BERTscores to 0.\n",
      "Warning: Empty candidate sentence detected; setting raw BERTscores to 0.\n",
      "Warning: Empty candidate sentence detected; setting raw BERTscores to 0.\n",
      "Warning: Empty candidate sentence detected; setting raw BERTscores to 0.\n"
     ]
    },
    {
     "name": "stdout",
     "output_type": "stream",
     "text": [
      "✅ Lote 374 salvo em 'lotes_avaliados/avaliacao_resumos_lote_373.csv'\n",
      "\n",
      "🔄 Processando lote 375/386...\n"
     ]
    },
    {
     "name": "stderr",
     "output_type": "stream",
     "text": [
      "→ ROUGE/BLEU HEADLINE: 100%|██████████| 200/200 [00:01<00:00, 119.97it/s]\n",
      "Some weights of RobertaModel were not initialized from the model checkpoint at roberta-large and are newly initialized: ['pooler.dense.bias', 'pooler.dense.weight']\n",
      "You should probably TRAIN this model on a down-stream task to be able to use it for predictions and inference.\n",
      "Warning: Empty candidate sentence detected; setting raw BERTscores to 0.\n",
      "Warning: Empty candidate sentence detected; setting raw BERTscores to 0.\n",
      "Warning: Empty candidate sentence detected; setting raw BERTscores to 0.\n"
     ]
    },
    {
     "name": "stdout",
     "output_type": "stream",
     "text": [
      "✅ Lote 375 salvo em 'lotes_avaliados/avaliacao_resumos_lote_374.csv'\n",
      "\n",
      "🔄 Processando lote 376/386...\n"
     ]
    },
    {
     "name": "stderr",
     "output_type": "stream",
     "text": [
      "→ ROUGE/BLEU HEADLINE: 100%|██████████| 200/200 [00:01<00:00, 184.22it/s]\n",
      "Some weights of RobertaModel were not initialized from the model checkpoint at roberta-large and are newly initialized: ['pooler.dense.bias', 'pooler.dense.weight']\n",
      "You should probably TRAIN this model on a down-stream task to be able to use it for predictions and inference.\n",
      "Warning: Empty candidate sentence detected; setting raw BERTscores to 0.\n",
      "Warning: Empty candidate sentence detected; setting raw BERTscores to 0.\n",
      "Warning: Empty candidate sentence detected; setting raw BERTscores to 0.\n"
     ]
    },
    {
     "name": "stdout",
     "output_type": "stream",
     "text": [
      "✅ Lote 376 salvo em 'lotes_avaliados/avaliacao_resumos_lote_375.csv'\n",
      "\n",
      "🔄 Processando lote 377/386...\n"
     ]
    },
    {
     "name": "stderr",
     "output_type": "stream",
     "text": [
      "→ ROUGE/BLEU HEADLINE: 100%|██████████| 200/200 [00:01<00:00, 195.06it/s]\n",
      "Some weights of RobertaModel were not initialized from the model checkpoint at roberta-large and are newly initialized: ['pooler.dense.bias', 'pooler.dense.weight']\n",
      "You should probably TRAIN this model on a down-stream task to be able to use it for predictions and inference.\n",
      "Warning: Empty candidate sentence detected; setting raw BERTscores to 0.\n",
      "Warning: Empty candidate sentence detected; setting raw BERTscores to 0.\n",
      "Warning: Empty candidate sentence detected; setting raw BERTscores to 0.\n"
     ]
    },
    {
     "name": "stdout",
     "output_type": "stream",
     "text": [
      "✅ Lote 377 salvo em 'lotes_avaliados/avaliacao_resumos_lote_376.csv'\n",
      "\n",
      "🔄 Processando lote 378/386...\n"
     ]
    },
    {
     "name": "stderr",
     "output_type": "stream",
     "text": [
      "→ ROUGE/BLEU HEADLINE: 100%|██████████| 200/200 [00:01<00:00, 139.56it/s]\n",
      "Some weights of RobertaModel were not initialized from the model checkpoint at roberta-large and are newly initialized: ['pooler.dense.bias', 'pooler.dense.weight']\n",
      "You should probably TRAIN this model on a down-stream task to be able to use it for predictions and inference.\n",
      "Warning: Empty candidate sentence detected; setting raw BERTscores to 0.\n",
      "Warning: Empty candidate sentence detected; setting raw BERTscores to 0.\n",
      "Warning: Empty candidate sentence detected; setting raw BERTscores to 0.\n",
      "Warning: Empty candidate sentence detected; setting raw BERTscores to 0.\n"
     ]
    },
    {
     "name": "stdout",
     "output_type": "stream",
     "text": [
      "✅ Lote 378 salvo em 'lotes_avaliados/avaliacao_resumos_lote_377.csv'\n",
      "\n",
      "🔄 Processando lote 379/386...\n"
     ]
    },
    {
     "name": "stderr",
     "output_type": "stream",
     "text": [
      "→ ROUGE/BLEU HEADLINE: 100%|██████████| 200/200 [00:01<00:00, 122.86it/s]\n",
      "Some weights of RobertaModel were not initialized from the model checkpoint at roberta-large and are newly initialized: ['pooler.dense.bias', 'pooler.dense.weight']\n",
      "You should probably TRAIN this model on a down-stream task to be able to use it for predictions and inference.\n",
      "Warning: Empty candidate sentence detected; setting raw BERTscores to 0.\n",
      "Warning: Empty candidate sentence detected; setting raw BERTscores to 0.\n",
      "Warning: Empty candidate sentence detected; setting raw BERTscores to 0.\n",
      "Warning: Empty candidate sentence detected; setting raw BERTscores to 0.\n"
     ]
    },
    {
     "name": "stdout",
     "output_type": "stream",
     "text": [
      "✅ Lote 379 salvo em 'lotes_avaliados/avaliacao_resumos_lote_378.csv'\n",
      "\n",
      "🔄 Processando lote 380/386...\n"
     ]
    },
    {
     "name": "stderr",
     "output_type": "stream",
     "text": [
      "→ ROUGE/BLEU HEADLINE: 100%|██████████| 200/200 [00:01<00:00, 148.14it/s]\n",
      "Some weights of RobertaModel were not initialized from the model checkpoint at roberta-large and are newly initialized: ['pooler.dense.bias', 'pooler.dense.weight']\n",
      "You should probably TRAIN this model on a down-stream task to be able to use it for predictions and inference.\n",
      "Warning: Empty candidate sentence detected; setting raw BERTscores to 0.\n",
      "Warning: Empty candidate sentence detected; setting raw BERTscores to 0.\n",
      "Warning: Empty candidate sentence detected; setting raw BERTscores to 0.\n"
     ]
    },
    {
     "name": "stdout",
     "output_type": "stream",
     "text": [
      "✅ Lote 380 salvo em 'lotes_avaliados/avaliacao_resumos_lote_379.csv'\n",
      "\n",
      "🔄 Processando lote 381/386...\n"
     ]
    },
    {
     "name": "stderr",
     "output_type": "stream",
     "text": [
      "→ ROUGE/BLEU HEADLINE: 100%|██████████| 200/200 [00:01<00:00, 114.30it/s]\n",
      "Some weights of RobertaModel were not initialized from the model checkpoint at roberta-large and are newly initialized: ['pooler.dense.bias', 'pooler.dense.weight']\n",
      "You should probably TRAIN this model on a down-stream task to be able to use it for predictions and inference.\n",
      "Warning: Empty candidate sentence detected; setting raw BERTscores to 0.\n",
      "Warning: Empty candidate sentence detected; setting raw BERTscores to 0.\n",
      "Warning: Empty candidate sentence detected; setting raw BERTscores to 0.\n"
     ]
    },
    {
     "name": "stdout",
     "output_type": "stream",
     "text": [
      "✅ Lote 381 salvo em 'lotes_avaliados/avaliacao_resumos_lote_380.csv'\n",
      "\n",
      "🔄 Processando lote 382/386...\n"
     ]
    },
    {
     "name": "stderr",
     "output_type": "stream",
     "text": [
      "→ ROUGE/BLEU HEADLINE: 100%|██████████| 200/200 [00:01<00:00, 133.42it/s]\n",
      "Some weights of RobertaModel were not initialized from the model checkpoint at roberta-large and are newly initialized: ['pooler.dense.bias', 'pooler.dense.weight']\n",
      "You should probably TRAIN this model on a down-stream task to be able to use it for predictions and inference.\n",
      "Warning: Empty candidate sentence detected; setting raw BERTscores to 0.\n",
      "Warning: Empty candidate sentence detected; setting raw BERTscores to 0.\n",
      "Warning: Empty candidate sentence detected; setting raw BERTscores to 0.\n"
     ]
    },
    {
     "name": "stdout",
     "output_type": "stream",
     "text": [
      "✅ Lote 382 salvo em 'lotes_avaliados/avaliacao_resumos_lote_381.csv'\n",
      "\n",
      "🔄 Processando lote 383/386...\n"
     ]
    },
    {
     "name": "stderr",
     "output_type": "stream",
     "text": [
      "→ ROUGE/BLEU HEADLINE: 100%|██████████| 200/200 [00:01<00:00, 104.92it/s]\n",
      "Some weights of RobertaModel were not initialized from the model checkpoint at roberta-large and are newly initialized: ['pooler.dense.bias', 'pooler.dense.weight']\n",
      "You should probably TRAIN this model on a down-stream task to be able to use it for predictions and inference.\n",
      "Warning: Empty candidate sentence detected; setting raw BERTscores to 0.\n",
      "Warning: Empty candidate sentence detected; setting raw BERTscores to 0.\n",
      "Warning: Empty candidate sentence detected; setting raw BERTscores to 0.\n"
     ]
    },
    {
     "name": "stdout",
     "output_type": "stream",
     "text": [
      "✅ Lote 383 salvo em 'lotes_avaliados/avaliacao_resumos_lote_382.csv'\n",
      "\n",
      "🔄 Processando lote 384/386...\n"
     ]
    },
    {
     "name": "stderr",
     "output_type": "stream",
     "text": [
      "→ ROUGE/BLEU HEADLINE: 100%|██████████| 200/200 [00:01<00:00, 125.39it/s]\n",
      "Some weights of RobertaModel were not initialized from the model checkpoint at roberta-large and are newly initialized: ['pooler.dense.bias', 'pooler.dense.weight']\n",
      "You should probably TRAIN this model on a down-stream task to be able to use it for predictions and inference.\n",
      "Warning: Empty candidate sentence detected; setting raw BERTscores to 0.\n",
      "Warning: Empty candidate sentence detected; setting raw BERTscores to 0.\n",
      "Warning: Empty candidate sentence detected; setting raw BERTscores to 0.\n"
     ]
    },
    {
     "name": "stdout",
     "output_type": "stream",
     "text": [
      "✅ Lote 384 salvo em 'lotes_avaliados/avaliacao_resumos_lote_383.csv'\n",
      "\n",
      "🔄 Processando lote 385/386...\n"
     ]
    },
    {
     "name": "stderr",
     "output_type": "stream",
     "text": [
      "→ ROUGE/BLEU HEADLINE: 100%|██████████| 200/200 [00:01<00:00, 114.32it/s]\n",
      "Some weights of RobertaModel were not initialized from the model checkpoint at roberta-large and are newly initialized: ['pooler.dense.bias', 'pooler.dense.weight']\n",
      "You should probably TRAIN this model on a down-stream task to be able to use it for predictions and inference.\n",
      "Warning: Empty candidate sentence detected; setting raw BERTscores to 0.\n",
      "Warning: Empty candidate sentence detected; setting raw BERTscores to 0.\n",
      "Warning: Empty candidate sentence detected; setting raw BERTscores to 0.\n",
      "Warning: Empty candidate sentence detected; setting raw BERTscores to 0.\n"
     ]
    },
    {
     "name": "stdout",
     "output_type": "stream",
     "text": [
      "✅ Lote 385 salvo em 'lotes_avaliados/avaliacao_resumos_lote_384.csv'\n",
      "\n",
      "🔄 Processando lote 386/386...\n"
     ]
    },
    {
     "name": "stderr",
     "output_type": "stream",
     "text": [
      "→ ROUGE/BLEU HEADLINE: 100%|██████████| 6/6 [00:00<00:00, 154.64it/s]\n",
      "Some weights of RobertaModel were not initialized from the model checkpoint at roberta-large and are newly initialized: ['pooler.dense.bias', 'pooler.dense.weight']\n",
      "You should probably TRAIN this model on a down-stream task to be able to use it for predictions and inference.\n"
     ]
    },
    {
     "name": "stdout",
     "output_type": "stream",
     "text": [
      "✅ Lote 386 salvo em 'lotes_avaliados/avaliacao_resumos_lote_385.csv'\n",
      "\n",
      "🏁 Todos os lotes foram processados com sucesso!\n"
     ]
    }
   ],
   "source": [
    "import pandas as pd\n",
    "import nltk\n",
    "from nltk.translate.bleu_score import sentence_bleu, SmoothingFunction\n",
    "from rouge_score import rouge_scorer\n",
    "from bert_score import score as bert_score\n",
    "from tqdm import tqdm\n",
    "import os\n",
    "import glob\n",
    "\n",
    "# Inicializa avaliadores\n",
    "rouge = rouge_scorer.RougeScorer(['rouge1', 'rouge2', 'rougeL'], use_stemmer=True)\n",
    "smoothie = SmoothingFunction().method4\n",
    "\n",
    "# Carrega a base completa\n",
    "df_total = pd.read_csv('data/wikihow_results.csv')\n",
    "\n",
    "# Define o tamanho do lote\n",
    "batch_size = 200\n",
    "num_batches = (len(df_total) + batch_size - 1) // batch_size  # Arredonda para cima\n",
    "\n",
    "# Cria pasta de saída\n",
    "output_dir = 'lotes_avaliados'\n",
    "os.makedirs(output_dir, exist_ok=True)\n",
    "\n",
    "# Lê todos os CSVs existentes e junta os títulos processados\n",
    "csvs_existentes = glob.glob(os.path.join(output_dir, '*.csv'))\n",
    "titulos_processados = set()\n",
    "for path in csvs_existentes:\n",
    "    try:\n",
    "        df_existente = pd.read_csv(path, usecols=['title'])\n",
    "        titulos_processados.update(df_existente['title'].dropna().unique())\n",
    "    except Exception as e:\n",
    "        print(f\"⚠️ Erro ao ler '{path}': {e}\")\n",
    "\n",
    "# Processa lote a lote\n",
    "for i in range(num_batches):\n",
    "    start = i * batch_size\n",
    "    end = min((i + 1) * batch_size, len(df_total))\n",
    "    df_batch = df_total.iloc[start:end].copy()\n",
    "\n",
    "    # Verifica se todos os títulos desse lote já estão nos processados\n",
    "    titulos_lote = set(df_batch['title'].dropna().unique())\n",
    "    if titulos_lote.issubset(titulos_processados):\n",
    "        print(f\"⏩ Lote {i+1} já processado com base nos títulos. Pulando...\\n\")\n",
    "        continue\n",
    "\n",
    "    print(f\"🔄 Processando lote {i+1}/{num_batches}...\")\n",
    "\n",
    "    # TEXTOS\n",
    "    textos = df_batch['text'].fillna('').astype(str).tolist()\n",
    "    headlines = df_batch['headline'].fillna('').astype(str).tolist()\n",
    "    resumos = df_batch['resumo'].fillna('').astype(str).tolist()\n",
    "\n",
    "    # Métricas de HEADLINE vs TEXT\n",
    "    rouge_h, bleu_h = [], []\n",
    "    for ref, hyp in tqdm(zip(textos, headlines), total=len(textos), desc=\"→ ROUGE/BLEU HEADLINE\"):\n",
    "        scores = rouge.score(ref, hyp)\n",
    "        rouge_h.append((scores['rouge1'].fmeasure, scores['rouge2'].fmeasure, scores['rougeL'].fmeasure))\n",
    "\n",
    "        ref_tokens = [nltk.word_tokenize(ref.lower())]\n",
    "        hyp_tokens = nltk.word_tokenize(hyp.lower())\n",
    "        bleu_h.append(sentence_bleu(ref_tokens, hyp_tokens, smoothing_function=smoothie))\n",
    "\n",
    "    # BERTScore HEADLINE vs TEXT (em inglês)\n",
    "    P_h, R_h, F1_h = bert_score(headlines, textos, lang=\"en\", rescale_with_baseline=False)\n",
    "\n",
    "    # BERTScore RESUMO vs TEXT (pt vs en)\n",
    "    P_r, R_r, F1_r = bert_score(resumos, textos, lang=\"multilingual\", rescale_with_baseline=False)\n",
    "\n",
    "    # Adiciona ao DataFrame\n",
    "    df_batch['headline_ROUGE-1'] = [r[0] for r in rouge_h]\n",
    "    df_batch['headline_ROUGE-2'] = [r[1] for r in rouge_h]\n",
    "    df_batch['headline_ROUGE-L'] = [r[2] for r in rouge_h]\n",
    "    df_batch['headline_BLEU'] = bleu_h\n",
    "    df_batch['headline_BERTScore_F1'] = F1_h.tolist()\n",
    "    df_batch['resumo_BERTScore_F1'] = F1_r.tolist()\n",
    "\n",
    "    # Comparação final\n",
    "    df_batch['resumo_melhor_que_headline'] = df_batch['resumo_BERTScore_F1'] > df_batch['headline_BERTScore_F1']\n",
    "\n",
    "    # Salva o lote\n",
    "    output_path = os.path.join(output_dir, f'avaliacao_resumos_lote_{i}.csv')\n",
    "    df_batch.to_csv(output_path, index=False)\n",
    "    print(f\"✅ Lote {i+1} salvo em '{output_path}'\\n\")\n",
    "\n",
    "print(\"🏁 Todos os lotes foram processados com sucesso!\")\n"
   ]
  },
  {
   "cell_type": "code",
   "execution_count": 9,
   "metadata": {},
   "outputs": [],
   "source": [
    "import glob\n",
    "\n",
    "all_files = glob.glob(\"lotes_avaliados/avaliacao_resumos_lote_*.csv\")\n",
    "df_final = pd.concat([pd.read_csv(f) for f in all_files], ignore_index=True)\n",
    "df_final.to_csv(\"avaliacao_resumos_completa.csv\", index=False)\n"
   ]
  },
  {
   "cell_type": "code",
   "execution_count": 10,
   "metadata": {},
   "outputs": [
    {
     "data": {
      "text/html": [
       "<div>\n",
       "<style scoped>\n",
       "    .dataframe tbody tr th:only-of-type {\n",
       "        vertical-align: middle;\n",
       "    }\n",
       "\n",
       "    .dataframe tbody tr th {\n",
       "        vertical-align: top;\n",
       "    }\n",
       "\n",
       "    .dataframe thead th {\n",
       "        text-align: right;\n",
       "    }\n",
       "</style>\n",
       "<table border=\"1\" class=\"dataframe\">\n",
       "  <thead>\n",
       "    <tr style=\"text-align: right;\">\n",
       "      <th></th>\n",
       "      <th>headline</th>\n",
       "      <th>title</th>\n",
       "      <th>text</th>\n",
       "      <th>resumo</th>\n",
       "      <th>classificacao</th>\n",
       "      <th>metadata</th>\n",
       "      <th>max_length</th>\n",
       "      <th>language</th>\n",
       "      <th>nivel_ensino</th>\n",
       "      <th>status</th>\n",
       "      <th>erro</th>\n",
       "      <th>headline_ROUGE-1</th>\n",
       "      <th>headline_ROUGE-2</th>\n",
       "      <th>headline_ROUGE-L</th>\n",
       "      <th>headline_BLEU</th>\n",
       "      <th>headline_BERTScore_F1</th>\n",
       "      <th>resumo_BERTScore_F1</th>\n",
       "      <th>resumo_melhor_que_headline</th>\n",
       "    </tr>\n",
       "  </thead>\n",
       "  <tbody>\n",
       "    <tr>\n",
       "      <th>0</th>\n",
       "      <td>Understand what a prenuptial agreement does.,\\...</td>\n",
       "      <td>How to Obtain a Prenuptial Agreement</td>\n",
       "      <td>Put simply, a prenuptial agreement is a legal ...</td>\n",
       "      <td>NaN</td>\n",
       "      <td>NaN</td>\n",
       "      <td>NaN</td>\n",
       "      <td>500</td>\n",
       "      <td>pt-BR</td>\n",
       "      <td>medio</td>\n",
       "      <td>erro</td>\n",
       "      <td>HTTP 422: {\"detail\":[{\"type\":\"string_too_long\"...</td>\n",
       "      <td>0.117717</td>\n",
       "      <td>0.067817</td>\n",
       "      <td>0.086801</td>\n",
       "      <td>3.690934e-07</td>\n",
       "      <td>0.840141</td>\n",
       "      <td>0.000000</td>\n",
       "      <td>False</td>\n",
       "    </tr>\n",
       "    <tr>\n",
       "      <th>1</th>\n",
       "      <td>Calculate your budget for the wand.,\\nChoose t...</td>\n",
       "      <td>How to Make a Wedding Ribbon Wand</td>\n",
       "      <td>How much money are you willing to spend on a w...</td>\n",
       "      <td>Este texto é um guia para fazer varinhas perso...</td>\n",
       "      <td>NaN</td>\n",
       "      <td>{'tempo_processamento': 8.99620270729065, 'tam...</td>\n",
       "      <td>500</td>\n",
       "      <td>pt-BR</td>\n",
       "      <td>medio</td>\n",
       "      <td>ok</td>\n",
       "      <td>NaN</td>\n",
       "      <td>0.140187</td>\n",
       "      <td>0.049180</td>\n",
       "      <td>0.086449</td>\n",
       "      <td>2.049932e-06</td>\n",
       "      <td>0.814617</td>\n",
       "      <td>0.618793</td>\n",
       "      <td>False</td>\n",
       "    </tr>\n",
       "    <tr>\n",
       "      <th>2</th>\n",
       "      <td>Buy or make a neat hold-all to keep everything...</td>\n",
       "      <td>How to Make a Bride Survival Kit</td>\n",
       "      <td>Ideally it should be compact and easily carrie...</td>\n",
       "      <td>Este texto fala sobre montar um kit de emergên...</td>\n",
       "      <td>NaN</td>\n",
       "      <td>{'tempo_processamento': 5.824188232421875, 'ta...</td>\n",
       "      <td>500</td>\n",
       "      <td>pt-BR</td>\n",
       "      <td>medio</td>\n",
       "      <td>ok</td>\n",
       "      <td>NaN</td>\n",
       "      <td>0.115385</td>\n",
       "      <td>0.034335</td>\n",
       "      <td>0.076923</td>\n",
       "      <td>1.192576e-06</td>\n",
       "      <td>0.816137</td>\n",
       "      <td>0.647328</td>\n",
       "      <td>False</td>\n",
       "    </tr>\n",
       "    <tr>\n",
       "      <th>3</th>\n",
       "      <td>Be prepared for your decision being seen by so...</td>\n",
       "      <td>How to Tell People You're Keeping Your Maiden ...</td>\n",
       "      <td>However, traditions are not set in stone. In s...</td>\n",
       "      <td>Hoje em dia, não é mais obrigatório a mulher m...</td>\n",
       "      <td>NaN</td>\n",
       "      <td>{'tempo_processamento': 6.02925968170166, 'tam...</td>\n",
       "      <td>500</td>\n",
       "      <td>pt-BR</td>\n",
       "      <td>medio</td>\n",
       "      <td>ok</td>\n",
       "      <td>NaN</td>\n",
       "      <td>0.160214</td>\n",
       "      <td>0.048193</td>\n",
       "      <td>0.101469</td>\n",
       "      <td>1.070240e-04</td>\n",
       "      <td>0.822365</td>\n",
       "      <td>0.681220</td>\n",
       "      <td>False</td>\n",
       "    </tr>\n",
       "    <tr>\n",
       "      <th>4</th>\n",
       "      <td>Pick a child that is three to seven years old....</td>\n",
       "      <td>How to Ask Someone to Be Your Ring Bearer</td>\n",
       "      <td>A general rule for the ring bearer is a child ...</td>\n",
       "      <td>Para escolher a criança que vai levar as alian...</td>\n",
       "      <td>NaN</td>\n",
       "      <td>{'tempo_processamento': 4.799262285232544, 'ta...</td>\n",
       "      <td>500</td>\n",
       "      <td>pt-BR</td>\n",
       "      <td>medio</td>\n",
       "      <td>ok</td>\n",
       "      <td>NaN</td>\n",
       "      <td>0.180288</td>\n",
       "      <td>0.089157</td>\n",
       "      <td>0.120192</td>\n",
       "      <td>5.672125e-05</td>\n",
       "      <td>0.838326</td>\n",
       "      <td>0.646150</td>\n",
       "      <td>False</td>\n",
       "    </tr>\n",
       "  </tbody>\n",
       "</table>\n",
       "</div>"
      ],
      "text/plain": [
       "                                            headline  \\\n",
       "0  Understand what a prenuptial agreement does.,\\...   \n",
       "1  Calculate your budget for the wand.,\\nChoose t...   \n",
       "2  Buy or make a neat hold-all to keep everything...   \n",
       "3  Be prepared for your decision being seen by so...   \n",
       "4  Pick a child that is three to seven years old....   \n",
       "\n",
       "                                               title  \\\n",
       "0               How to Obtain a Prenuptial Agreement   \n",
       "1                  How to Make a Wedding Ribbon Wand   \n",
       "2                   How to Make a Bride Survival Kit   \n",
       "3  How to Tell People You're Keeping Your Maiden ...   \n",
       "4          How to Ask Someone to Be Your Ring Bearer   \n",
       "\n",
       "                                                text  \\\n",
       "0  Put simply, a prenuptial agreement is a legal ...   \n",
       "1  How much money are you willing to spend on a w...   \n",
       "2  Ideally it should be compact and easily carrie...   \n",
       "3  However, traditions are not set in stone. In s...   \n",
       "4  A general rule for the ring bearer is a child ...   \n",
       "\n",
       "                                              resumo  classificacao  \\\n",
       "0                                                NaN            NaN   \n",
       "1  Este texto é um guia para fazer varinhas perso...            NaN   \n",
       "2  Este texto fala sobre montar um kit de emergên...            NaN   \n",
       "3  Hoje em dia, não é mais obrigatório a mulher m...            NaN   \n",
       "4  Para escolher a criança que vai levar as alian...            NaN   \n",
       "\n",
       "                                            metadata  max_length language  \\\n",
       "0                                                NaN         500    pt-BR   \n",
       "1  {'tempo_processamento': 8.99620270729065, 'tam...         500    pt-BR   \n",
       "2  {'tempo_processamento': 5.824188232421875, 'ta...         500    pt-BR   \n",
       "3  {'tempo_processamento': 6.02925968170166, 'tam...         500    pt-BR   \n",
       "4  {'tempo_processamento': 4.799262285232544, 'ta...         500    pt-BR   \n",
       "\n",
       "  nivel_ensino status                                               erro  \\\n",
       "0        medio   erro  HTTP 422: {\"detail\":[{\"type\":\"string_too_long\"...   \n",
       "1        medio     ok                                                NaN   \n",
       "2        medio     ok                                                NaN   \n",
       "3        medio     ok                                                NaN   \n",
       "4        medio     ok                                                NaN   \n",
       "\n",
       "   headline_ROUGE-1  headline_ROUGE-2  headline_ROUGE-L  headline_BLEU  \\\n",
       "0          0.117717          0.067817          0.086801   3.690934e-07   \n",
       "1          0.140187          0.049180          0.086449   2.049932e-06   \n",
       "2          0.115385          0.034335          0.076923   1.192576e-06   \n",
       "3          0.160214          0.048193          0.101469   1.070240e-04   \n",
       "4          0.180288          0.089157          0.120192   5.672125e-05   \n",
       "\n",
       "   headline_BERTScore_F1  resumo_BERTScore_F1  resumo_melhor_que_headline  \n",
       "0               0.840141             0.000000                       False  \n",
       "1               0.814617             0.618793                       False  \n",
       "2               0.816137             0.647328                       False  \n",
       "3               0.822365             0.681220                       False  \n",
       "4               0.838326             0.646150                       False  "
      ]
     },
     "execution_count": 10,
     "metadata": {},
     "output_type": "execute_result"
    }
   ],
   "source": [
    "df_final.head()"
   ]
  }
 ],
 "metadata": {
  "kernelspec": {
   "display_name": ".venv",
   "language": "python",
   "name": "python3"
  },
  "language_info": {
   "codemirror_mode": {
    "name": "ipython",
    "version": 3
   },
   "file_extension": ".py",
   "mimetype": "text/x-python",
   "name": "python",
   "nbconvert_exporter": "python",
   "pygments_lexer": "ipython3",
   "version": "3.12.9"
  }
 },
 "nbformat": 4,
 "nbformat_minor": 2
}
